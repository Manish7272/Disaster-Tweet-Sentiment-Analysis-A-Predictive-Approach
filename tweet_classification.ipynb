{
 "cells": [
  {
   "cell_type": "markdown",
   "metadata": {},
   "source": [
    "# Importing Necessary Libraries"
   ]
  },
  {
   "cell_type": "code",
   "execution_count": 1,
   "metadata": {},
   "outputs": [],
   "source": [
    "import numpy as np\n",
    "import pandas as pd\n",
    "import matplotlib.pyplot as plt\n",
    "import seaborn as sns\n",
    "%matplotlib inline\n",
    "\n",
    "rs = 42 # Defining random state\n",
    "\n",
    "import re\n",
    "import string\n",
    "import nltk\n",
    "from nltk.tokenize import word_tokenize\n",
    "from nltk.corpus import stopwords\n",
    "from nltk.stem import PorterStemmer\n",
    "from nltk.stem import WordNetLemmatizer"
   ]
  },
  {
   "cell_type": "markdown",
   "metadata": {},
   "source": [
    "## Reading the dataset"
   ]
  },
  {
   "cell_type": "code",
   "execution_count": 2,
   "metadata": {},
   "outputs": [
    {
     "data": {
      "text/html": [
       "<div>\n",
       "<style scoped>\n",
       "    .dataframe tbody tr th:only-of-type {\n",
       "        vertical-align: middle;\n",
       "    }\n",
       "\n",
       "    .dataframe tbody tr th {\n",
       "        vertical-align: top;\n",
       "    }\n",
       "\n",
       "    .dataframe thead th {\n",
       "        text-align: right;\n",
       "    }\n",
       "</style>\n",
       "<table border=\"1\" class=\"dataframe\">\n",
       "  <thead>\n",
       "    <tr style=\"text-align: right;\">\n",
       "      <th></th>\n",
       "      <th>text</th>\n",
       "      <th>target</th>\n",
       "    </tr>\n",
       "  </thead>\n",
       "  <tbody>\n",
       "    <tr>\n",
       "      <th>0</th>\n",
       "      <td>Our Deeds are the Reason of this #earthquake M...</td>\n",
       "      <td>1</td>\n",
       "    </tr>\n",
       "    <tr>\n",
       "      <th>1</th>\n",
       "      <td>Forest fire near La Ronge Sask. Canada</td>\n",
       "      <td>1</td>\n",
       "    </tr>\n",
       "    <tr>\n",
       "      <th>2</th>\n",
       "      <td>All residents asked to 'shelter in place' are ...</td>\n",
       "      <td>1</td>\n",
       "    </tr>\n",
       "    <tr>\n",
       "      <th>3</th>\n",
       "      <td>13,000 people receive #wildfires evacuation or...</td>\n",
       "      <td>1</td>\n",
       "    </tr>\n",
       "    <tr>\n",
       "      <th>4</th>\n",
       "      <td>Just got sent this photo from Ruby #Alaska as ...</td>\n",
       "      <td>1</td>\n",
       "    </tr>\n",
       "  </tbody>\n",
       "</table>\n",
       "</div>"
      ],
      "text/plain": [
       "                                                text  target\n",
       "0  Our Deeds are the Reason of this #earthquake M...       1\n",
       "1             Forest fire near La Ronge Sask. Canada       1\n",
       "2  All residents asked to 'shelter in place' are ...       1\n",
       "3  13,000 people receive #wildfires evacuation or...       1\n",
       "4  Just got sent this photo from Ruby #Alaska as ...       1"
      ]
     },
     "execution_count": 2,
     "metadata": {},
     "output_type": "execute_result"
    }
   ],
   "source": [
    "df = pd.read_csv(\"Disaster_tweets.csv\")\n",
    "df = df[[\"text\", \"target\"]]\n",
    "df.head()"
   ]
  },
  {
   "cell_type": "code",
   "execution_count": 3,
   "metadata": {},
   "outputs": [
    {
     "data": {
      "text/plain": [
       "(7613, 2)"
      ]
     },
     "execution_count": 3,
     "metadata": {},
     "output_type": "execute_result"
    }
   ],
   "source": [
    "# Checking dataframe shape\n",
    "df.shape"
   ]
  },
  {
   "cell_type": "code",
   "execution_count": 4,
   "metadata": {},
   "outputs": [
    {
     "name": "stdout",
     "output_type": "stream",
     "text": [
      "<class 'pandas.core.frame.DataFrame'>\n",
      "RangeIndex: 7613 entries, 0 to 7612\n",
      "Data columns (total 2 columns):\n",
      " #   Column  Non-Null Count  Dtype \n",
      "---  ------  --------------  ----- \n",
      " 0   text    7613 non-null   object\n",
      " 1   target  7613 non-null   int64 \n",
      "dtypes: int64(1), object(1)\n",
      "memory usage: 119.1+ KB\n"
     ]
    }
   ],
   "source": [
    "df.info()"
   ]
  },
  {
   "cell_type": "markdown",
   "metadata": {},
   "source": [
    "## Preprocessing text"
   ]
  },
  {
   "cell_type": "code",
   "execution_count": 5,
   "metadata": {},
   "outputs": [],
   "source": [
    "def preprocess(sentences):\n",
    "    tweet_list = []\n",
    "    filter = string.ascii_letters + \" \"\n",
    "    lm = WordNetLemmatizer()\n",
    "    for tweet in sentences:\n",
    "        tweet_cleaned = re.sub(r'http\\S+', '', tweet)                                         # remove url\n",
    "        tweet_cleaned = \"\".join([chr for chr in tweet_cleaned if chr in filter])              # remove punctuation\n",
    "        tweet_cleaned = tweet_cleaned.lower()                                                 # convert to lower case\n",
    "        tokens = word_tokenize(tweet_cleaned)                                                 # tokenize\n",
    "        clean_list = [word for word in tokens if word not in stopwords.words('english')]      # removing stopwords\n",
    "        clean_list = [lm.lemmatize(word) for word in clean_list]                              # lemmatizing\n",
    "        tweet_cleaned = \" \".join(clean_list)                                                  # combine tokens back together\n",
    "        tweet_list.append(tweet_cleaned)\n",
    "\n",
    "    return np.array(tweet_list)"
   ]
  },
  {
   "cell_type": "code",
   "execution_count": 6,
   "metadata": {},
   "outputs": [],
   "source": [
    "df[\"text\"] = preprocess(df[\"text\"])"
   ]
  },
  {
   "cell_type": "code",
   "execution_count": 7,
   "metadata": {},
   "outputs": [
    {
     "data": {
      "text/html": [
       "<div>\n",
       "<style scoped>\n",
       "    .dataframe tbody tr th:only-of-type {\n",
       "        vertical-align: middle;\n",
       "    }\n",
       "\n",
       "    .dataframe tbody tr th {\n",
       "        vertical-align: top;\n",
       "    }\n",
       "\n",
       "    .dataframe thead th {\n",
       "        text-align: right;\n",
       "    }\n",
       "</style>\n",
       "<table border=\"1\" class=\"dataframe\">\n",
       "  <thead>\n",
       "    <tr style=\"text-align: right;\">\n",
       "      <th></th>\n",
       "      <th>text</th>\n",
       "      <th>target</th>\n",
       "    </tr>\n",
       "  </thead>\n",
       "  <tbody>\n",
       "    <tr>\n",
       "      <th>0</th>\n",
       "      <td>deed reason earthquake may allah forgive u</td>\n",
       "      <td>1</td>\n",
       "    </tr>\n",
       "    <tr>\n",
       "      <th>1</th>\n",
       "      <td>forest fire near la ronge sask canada</td>\n",
       "      <td>1</td>\n",
       "    </tr>\n",
       "    <tr>\n",
       "      <th>2</th>\n",
       "      <td>resident asked shelter place notified officer ...</td>\n",
       "      <td>1</td>\n",
       "    </tr>\n",
       "    <tr>\n",
       "      <th>3</th>\n",
       "      <td>people receive wildfire evacuation order calif...</td>\n",
       "      <td>1</td>\n",
       "    </tr>\n",
       "    <tr>\n",
       "      <th>4</th>\n",
       "      <td>got sent photo ruby alaska smoke wildfire pour...</td>\n",
       "      <td>1</td>\n",
       "    </tr>\n",
       "  </tbody>\n",
       "</table>\n",
       "</div>"
      ],
      "text/plain": [
       "                                                text  target\n",
       "0         deed reason earthquake may allah forgive u       1\n",
       "1              forest fire near la ronge sask canada       1\n",
       "2  resident asked shelter place notified officer ...       1\n",
       "3  people receive wildfire evacuation order calif...       1\n",
       "4  got sent photo ruby alaska smoke wildfire pour...       1"
      ]
     },
     "execution_count": 7,
     "metadata": {},
     "output_type": "execute_result"
    }
   ],
   "source": [
    "df.head()"
   ]
  },
  {
   "cell_type": "code",
   "execution_count": 8,
   "metadata": {},
   "outputs": [],
   "source": [
    "# Dropping Duplicates\n",
    "df.drop_duplicates(inplace = True)"
   ]
  },
  {
   "cell_type": "markdown",
   "metadata": {},
   "source": [
    "# Splitting dataset into train and test sets"
   ]
  },
  {
   "cell_type": "code",
   "execution_count": 9,
   "metadata": {},
   "outputs": [
    {
     "name": "stdout",
     "output_type": "stream",
     "text": [
      "shape of X_train: (5541,)\n",
      "shape of X_test: (1386,)\n",
      "shape of y_train: (5541,)\n",
      "shape of y_test: (1386,)\n"
     ]
    }
   ],
   "source": [
    "# Splitting Data into train and test\n",
    "X = df[\"text\"]\n",
    "y = df[\"target\"]\n",
    "\n",
    "from sklearn.model_selection import train_test_split\n",
    "X_train, X_test, y_train, y_test = train_test_split(X, y, test_size=0.2, random_state=rs)\n",
    "\n",
    "print(f\"shape of X_train: {X_train.shape}\")\n",
    "print(f\"shape of X_test: {X_test.shape}\")\n",
    "print(f\"shape of y_train: {y_train.shape}\")\n",
    "print(f\"shape of y_test: {y_test.shape}\")"
   ]
  },
  {
   "cell_type": "code",
   "execution_count": 10,
   "metadata": {},
   "outputs": [
    {
     "name": "stdout",
     "output_type": "stream",
     "text": [
      "Number of unique words in X_train = 13544\n"
     ]
    }
   ],
   "source": [
    "vocab = []\n",
    "\n",
    "for tweet in X_train:\n",
    "    tweet_words = tweet.split()\n",
    "    vocab.extend(tweet_words)\n",
    "    \n",
    "print(f\"Number of unique words in X_train = {len(set(vocab))}\")"
   ]
  },
  {
   "cell_type": "markdown",
   "metadata": {},
   "source": [
    "## Text Vectorization (Tokenization Using Tensorflow)\n",
    "- this is similar to vectorizing text using sklearn (BOW, tf-idf, ohe)"
   ]
  },
  {
   "cell_type": "code",
   "execution_count": 13,
   "metadata": {},
   "outputs": [],
   "source": [
    "import tensorflow as tf\n",
    "from tensorflow.keras.layers import TextVectorization\n",
    "\n",
    "vectorizer = TextVectorization(max_tokens = None,                             # Number of words in vocabulary\n",
    "                               standardize = 'lower_and_strip_punctuation',   # How to process text\n",
    "                               split = 'whitespace',                          # How to split tokens from document\n",
    "                               ngrams = None,                                 # Define n-grams size if necessary\n",
    "                               output_mode = 'int',                           # How to map tokens to output\n",
    "                               output_sequence_length = None                  # Determines the maximum length of the output sequences\n",
    "                               )\n",
    "\n",
    "# fit the vectorizer on training text\n",
    "vectorizer.adapt(X_train) "
   ]
  },
  {
   "cell_type": "code",
   "execution_count": 14,
   "metadata": {},
   "outputs": [
    {
     "name": "stdout",
     "output_type": "stream",
     "text": [
      "tweet: militant attack police post udhampur spos injuredsuspected militant thursday attacked police post\n",
      "Vectorized_tweet: [1109   52   28  246 1181 1504 9714 1109  845  830   28  246]\n"
     ]
    }
   ],
   "source": [
    "import random\n",
    "random_index = random.choice(range(len(X_train)))\n",
    "tweet = X_train.iloc[random_index]\n",
    "print(f\"tweet: {tweet}\")\n",
    "print(f\"Vectorized_tweet: {vectorizer(tweet)}\")"
   ]
  },
  {
   "cell_type": "markdown",
   "metadata": {},
   "source": [
    "##### After vectorizing if we want to apply RNN directly, we need to give a fixed  `output_sequence_length` so the tensor size gets fixed. After that the vectors can be directly passed into RNN or ML algorithms for prediction."
   ]
  },
  {
   "cell_type": "code",
   "execution_count": 15,
   "metadata": {},
   "outputs": [
    {
     "data": {
      "image/png": "[encoded data removed]",
      "text/plain": [
       "<Figure size 640x480 with 1 Axes>"
      ]
     },
     "metadata": {},
     "output_type": "display_data"
    }
   ],
   "source": [
    "# To decide the value of output_sequence_length, we need to analyze the average length of sentences in our corpus.\n",
    "# For that we can analyze the kdeplot of number of words per tweet\n",
    "tokens_per_tweet = [len(tweet.split()) for tweet in X_train]\n",
    "\n",
    "sns.kdeplot(tokens_per_tweet, fill=True)\n",
    "plt.title('Distribution of words per tweet')\n",
    "plt.show()"
   ]
  },
  {
   "cell_type": "code",
   "execution_count": 16,
   "metadata": {},
   "outputs": [
    {
     "data": {
      "text/plain": [
       "count    5541.000000\n",
       "mean        9.110630\n",
       "std         3.545913\n",
       "min         1.000000\n",
       "25%         6.000000\n",
       "50%         9.000000\n",
       "75%        12.000000\n",
       "max        21.000000\n",
       "dtype: float64"
      ]
     },
     "execution_count": 16,
     "metadata": {},
     "output_type": "execute_result"
    }
   ],
   "source": [
    "pd.Series(tokens_per_tweet).describe()\n",
    "# here we can see that about 75% of our data can be covered if we use output_sequence_length of around 12.\n",
    "# This is how we choose the output_sequence_length."
   ]
  },
  {
   "cell_type": "code",
   "execution_count": 17,
   "metadata": {},
   "outputs": [
    {
     "name": "stdout",
     "output_type": "stream",
     "text": [
      "Number of words in vocabulary = 13546\n",
      "top_5 most commonwords = ['', '[UNK]', 'like', 'fire', 'amp']\n",
      "Bottom 5 least common words = ['aal', 'aaceorg', 'aaarrrgghhh', 'aaaaaaallll', 'aaaa']\n"
     ]
    }
   ],
   "source": [
    "# get_vocabulary() sorts the words in descending order of frequency of words in the corpus.\n",
    "# top 5 words are the most common 5 words in the corpus.\n",
    "# bottom 5 words are the least common 5 words in the corpus.\n",
    "\n",
    "words_in_vocab = vectorizer.get_vocabulary()\n",
    "print(f\"Number of words in vocabulary = {len(words_in_vocab)}\")\n",
    "\n",
    "top_5_words = words_in_vocab[:5]\n",
    "print(f\"top_5 most commonwords = {top_5_words}\")\n",
    "\n",
    "bottom_5_words = words_in_vocab[-5:]\n",
    "print(f\"Bottom 5 least common words = {bottom_5_words}\")"
   ]
  },
  {
   "cell_type": "markdown",
   "metadata": {},
   "source": [
    "<hr>"
   ]
  }
 ],
 "metadata": {
  "kernelspec": {
   "display_name": "Python 3",
   "language": "python",
   "name": "python3"
  },
  "language_info": {
   "codemirror_mode": {
    "name": "ipython",
    "version": 3
   },
   "file_extension": ".py",
   "mimetype": "text/x-python",
   "name": "python",
   "nbconvert_exporter": "python",
   "pygments_lexer": "ipython3",
   "version": "3.10.11"
  }
 },
 "nbformat": 4,
 "nbformat_minor": 2
}
